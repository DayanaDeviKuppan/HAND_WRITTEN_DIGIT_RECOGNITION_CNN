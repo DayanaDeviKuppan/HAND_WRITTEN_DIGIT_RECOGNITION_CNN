{
  "nbformat": 4,
  "nbformat_minor": 0,
  "metadata": {
    "colab": {
      "provenance": []
    },
    "kernelspec": {
      "name": "python3",
      "display_name": "Python 3"
    },
    "language_info": {
      "name": "python"
    }
  },
  "cells": [
    {
      "cell_type": "code",
      "source": [
        "import tensorflow as tf\n",
        "from tensorflow import keras\n",
        "import matplotlib.pyplot as plt\n",
        "import numpy as np\n",
        "\n",
        "# Load the MNIST dataset\n",
        "(X_train, y_train), (X_test, y_test) = keras.datasets.mnist.load_data()\n",
        "\n",
        "# Normalize the pixel values to the range [0, 1]\n",
        "X_train = X_train / 255.0\n",
        "X_test = X_test / 255.0\n",
        "\n",
        "# Reshape the input data to have a single channel\n",
        "X_train = X_train.reshape(-1, 28, 28, 1)\n",
        "X_test = X_test.reshape(-1, 28, 28, 1)\n",
        "\n",
        "# Define the model architecture\n",
        "model = keras.models.Sequential([\n",
        "    keras.layers.Conv2D(32, (3, 3), activation='relu', input_shape=(28, 28, 1)),\n",
        "    keras.layers.MaxPooling2D((2, 2)),\n",
        "    keras.layers.Conv2D(64, (3, 3), activation='relu'),\n",
        "    keras.layers.MaxPooling2D((2, 2)),\n",
        "    keras.layers.Flatten(),\n",
        "    keras.layers.Dense(128, activation='relu'),\n",
        "    keras.layers.Dense(10, activation='softmax')\n",
        "])\n",
        "\n",
        "# Compile the model\n",
        "model.compile(optimizer='adam',\n",
        "              loss='sparse_categorical_crossentropy',\n",
        "              metrics=['accuracy'])\n",
        "\n",
        "# Train the model\n",
        "model.fit(X_train, y_train, epochs=5, batch_size=64, validation_split=0.1)\n",
        "\n",
        "# Evaluate the model on the test set\n",
        "test_loss, test_acc = model.evaluate(X_test, y_test)\n",
        "print('Test accuracy:', test_acc)\n",
        "\n",
        "# Choose a random test image\n",
        "index = np.random.randint(0, len(X_test))\n",
        "test_image = X_test[index]\n",
        "true_label = y_test[index]\n",
        "\n",
        "# Make a prediction\n",
        "prediction = np.argmax(model.predict(test_image.reshape(1, 28, 28, 1)))\n",
        "\n",
        "# Display the image and prediction\n",
        "plt.imshow(test_image.squeeze(), cmap='gray')\n",
        "plt.title(f\"True Label: {true_label}, Predicted Label: {prediction}\")\n",
        "plt.axis('off')\n",
        "plt.show()"
      ],
      "metadata": {
        "colab": {
          "base_uri": "https://localhost:8080/",
          "height": 665
        },
        "id": "tzs8Zrz_ewzp",
        "outputId": "40f049db-55df-42cf-945f-d2579c2604cb"
      },
      "execution_count": 4,
      "outputs": [
        {
          "output_type": "stream",
          "name": "stdout",
          "text": [
            "Epoch 1/5\n",
            "844/844 [==============================] - 40s 47ms/step - loss: 0.1738 - accuracy: 0.9466 - val_loss: 0.0572 - val_accuracy: 0.9843\n",
            "Epoch 2/5\n",
            "844/844 [==============================] - 41s 48ms/step - loss: 0.0529 - accuracy: 0.9841 - val_loss: 0.0446 - val_accuracy: 0.9873\n",
            "Epoch 3/5\n",
            "844/844 [==============================] - 39s 46ms/step - loss: 0.0359 - accuracy: 0.9889 - val_loss: 0.0402 - val_accuracy: 0.9897\n",
            "Epoch 4/5\n",
            "844/844 [==============================] - 39s 46ms/step - loss: 0.0268 - accuracy: 0.9916 - val_loss: 0.0399 - val_accuracy: 0.9885\n",
            "Epoch 5/5\n",
            "844/844 [==============================] - 39s 46ms/step - loss: 0.0202 - accuracy: 0.9936 - val_loss: 0.0363 - val_accuracy: 0.9893\n",
            "313/313 [==============================] - 2s 8ms/step - loss: 0.0271 - accuracy: 0.9908\n",
            "Test accuracy: 0.9908000230789185\n",
            "1/1 [==============================] - 0s 74ms/step\n"
          ]
        },
        {
          "output_type": "display_data",
          "data": {
            "text/plain": [
              "<Figure size 640x480 with 1 Axes>"
            ],
            "image/png": "[encoded data removed]"
          },
          "metadata": {}
        }
      ]
    }
  ]
}